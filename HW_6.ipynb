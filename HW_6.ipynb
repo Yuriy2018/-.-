{
  "nbformat": 4,
  "nbformat_minor": 0,
  "metadata": {
    "colab": {
      "name": "HW_6.ipynb",
      "provenance": []
    },
    "kernelspec": {
      "name": "python3",
      "display_name": "Python 3"
    }
  },
  "cells": [
    {
      "cell_type": "markdown",
      "metadata": {
        "id": "cebvblBc1wmr"
      },
      "source": [
        "### Урок 6. Взаимосвязь величин. Параметрические и непараметрические показатели корреляции. Корреляционный анализ."
      ]
    },
    {
      "cell_type": "markdown",
      "metadata": {
        "id": "cHRMH8bg14Gk"
      },
      "source": [
        "####1) Даны значения величины заработной платы заемщиков банка (zp) и значения их поведенческого кредитного скоринга (ks):\n",
        "zp = [35, 45, 190, 200, 40, 70, 54, 150, 120, 110],\n",
        "\n",
        "ks = [401, 574, 874, 919, 459, 739, 653, 902, 746, 832].\n",
        "\n",
        "Найдите ковариацию этих двух величин с помощью элементарных действий, а затем с помощью функции cov из numpy\n",
        "Полученные значения должны быть равны.\n",
        "Найдите коэффициент корреляции Пирсона с помощью ковариации и среднеквадратичных отклонений двух признаков,\n",
        "а затем с использованием функций из библиотек numpy и pandas."
      ]
    },
    {
      "cell_type": "code",
      "metadata": {
        "id": "MhcYbTBF_Cvv"
      },
      "source": [
        "import numpy as np\n",
        "import pandas as pd"
      ],
      "execution_count": 28,
      "outputs": []
    },
    {
      "cell_type": "code",
      "metadata": {
        "id": "qIan65g-1kvj",
        "outputId": "1c3b37b6-6b1e-4fa5-d789-953870d28e4a",
        "colab": {
          "base_uri": "https://localhost:8080/",
          "height": 34
        }
      },
      "source": [
        "zp = [35, 45, 190, 200, 40, 70, 54, 150, 120, 110]\n",
        "ks = [401, 574, 874, 919, 459, 739, 653, 902, 746, 832]\n",
        "\n"
      ],
      "execution_count": 4,
      "outputs": [
        {
          "output_type": "execute_result",
          "data": {
            "text/plain": [
              "9157.839999999997"
            ]
          },
          "metadata": {
            "tags": []
          },
          "execution_count": 4
        }
      ]
    },
    {
      "cell_type": "markdown",
      "metadata": {
        "id": "NAjFsVvjBcAp"
      },
      "source": [
        "##### Считаем в ручную"
      ]
    },
    {
      "cell_type": "code",
      "metadata": {
        "id": "3r0L8IIyD4sF"
      },
      "source": [
        "def mean(x:list): # Функция для ручного нахождения среднего..\n",
        "  return(sum(x)/ len(x))"
      ],
      "execution_count": 17,
      "outputs": []
    },
    {
      "cell_type": "code",
      "metadata": {
        "id": "Xcgf_psOBbbS",
        "outputId": "89158332-7dac-4ab6-e177-2eb9a1ee3a0e",
        "colab": {
          "base_uri": "https://localhost:8080/",
          "height": 34
        }
      },
      "source": [
        "a = []\n",
        "for x,i in enumerate(zp):\n",
        "  a.append(i*ks[x])\n",
        "\n",
        "cov = mean(a) - mean(zp) * mean(ks)\n",
        "cov"
      ],
      "execution_count": 18,
      "outputs": [
        {
          "output_type": "execute_result",
          "data": {
            "text/plain": [
              "9157.839999999997"
            ]
          },
          "metadata": {
            "tags": []
          },
          "execution_count": 18
        }
      ]
    },
    {
      "cell_type": "markdown",
      "metadata": {
        "id": "_rJ30IZrBqzX"
      },
      "source": [
        "##### Считаем в ручную с помощью библиотеки Numpy"
      ]
    },
    {
      "cell_type": "code",
      "metadata": {
        "id": "l2KI2AwE8fBb"
      },
      "source": [
        "ar_zp = np.array(zp)\n",
        "ar_ks = np.array(ks)\n",
        "cov = np.mean(ar_zp*ar_ks) - np.mean(ar_zp)* np.mean(ar_ks)"
      ],
      "execution_count": 15,
      "outputs": []
    },
    {
      "cell_type": "markdown",
      "metadata": {
        "id": "YgdWxI0PCCcm"
      },
      "source": [
        "##### Считаем с помощью Numpy"
      ]
    },
    {
      "cell_type": "code",
      "metadata": {
        "id": "EjpfFOLbAzeb",
        "outputId": "c5bccddf-19ee-4c98-9f0c-4da3fa928feb",
        "colab": {
          "base_uri": "https://localhost:8080/",
          "height": 51
        }
      },
      "source": [
        "np.cov(zp,ks,ddof=0)"
      ],
      "execution_count": 12,
      "outputs": [
        {
          "output_type": "execute_result",
          "data": {
            "text/plain": [
              "array([[ 3494.64,  9157.84],\n",
              "       [ 9157.84, 30468.89]])"
            ]
          },
          "metadata": {
            "tags": []
          },
          "execution_count": 12
        }
      ]
    },
    {
      "cell_type": "code",
      "metadata": {
        "id": "SmvfjSJ0EiUy"
      },
      "source": [
        "def std(x:list): # Функция для ручного нахождения стандартного отклонения(сигмы)..\n",
        "  m = mean(x) \n",
        "  s = 0\n",
        "  for i in x:\n",
        "    s += (i-m)**2\n",
        "  d = s / len(x)\n",
        "  return  d**0.5   \n"
      ],
      "execution_count": 25,
      "outputs": []
    },
    {
      "cell_type": "code",
      "metadata": {
        "id": "j8BRURdXFVAE",
        "outputId": "c2766992-4b15-4d79-c794-ebe967d3891b",
        "colab": {
          "base_uri": "https://localhost:8080/",
          "height": 34
        }
      },
      "source": [
        "cov / (std(zp)*std(ks))"
      ],
      "execution_count": 27,
      "outputs": [
        {
          "output_type": "execute_result",
          "data": {
            "text/plain": [
              "0.8874900920739158"
            ]
          },
          "metadata": {
            "tags": []
          },
          "execution_count": 27
        }
      ]
    },
    {
      "cell_type": "markdown",
      "metadata": {
        "id": "phmbKZK_KWxN"
      },
      "source": [
        "##### Нахождение среднего(сигмы) с помощью Numpy"
      ]
    },
    {
      "cell_type": "code",
      "metadata": {
        "id": "WljX1d-cDTUN",
        "outputId": "ef97b644-8447-4294-e594-0409064a0ab6",
        "colab": {
          "base_uri": "https://localhost:8080/",
          "height": 34
        }
      },
      "source": [
        "cov / (np.std(zp)*np.std(ks))"
      ],
      "execution_count": 16,
      "outputs": [
        {
          "output_type": "execute_result",
          "data": {
            "text/plain": [
              "0.8874900920739158"
            ]
          },
          "metadata": {
            "tags": []
          },
          "execution_count": 16
        }
      ]
    },
    {
      "cell_type": "markdown",
      "metadata": {
        "id": "d_G3r-rxKow1"
      },
      "source": [
        "##### Нахождение корреляции только с помощью Numpy"
      ]
    },
    {
      "cell_type": "code",
      "metadata": {
        "id": "BKcVURp-Dge1",
        "outputId": "022b371b-94ba-48b5-96da-f56534f1591d",
        "colab": {
          "base_uri": "https://localhost:8080/",
          "height": 51
        }
      },
      "source": [
        "np.corrcoef(zp,ks)"
      ],
      "execution_count": 19,
      "outputs": [
        {
          "output_type": "execute_result",
          "data": {
            "text/plain": [
              "array([[1.        , 0.88749009],\n",
              "       [0.88749009, 1.        ]])"
            ]
          },
          "metadata": {
            "tags": []
          },
          "execution_count": 19
        }
      ]
    },
    {
      "cell_type": "markdown",
      "metadata": {
        "id": "_BtqHBU1LAtc"
      },
      "source": [
        "##### С помощью Pandas"
      ]
    },
    {
      "cell_type": "code",
      "metadata": {
        "id": "6qgN7bLiLAI9"
      },
      "source": [
        "df = pd.DataFrame({'zp':zp,\n",
        "                   'ks':ks})"
      ],
      "execution_count": 29,
      "outputs": []
    },
    {
      "cell_type": "code",
      "metadata": {
        "id": "iTs0cJ2HEeNQ",
        "outputId": "ab9632d3-866a-40ee-8482-4832990ee5a2",
        "colab": {
          "base_uri": "https://localhost:8080/",
          "height": 111
        }
      },
      "source": [
        "df.corr(method='pearson')"
      ],
      "execution_count": 34,
      "outputs": [
        {
          "output_type": "execute_result",
          "data": {
            "text/html": [
              "<div>\n",
              "<style scoped>\n",
              "    .dataframe tbody tr th:only-of-type {\n",
              "        vertical-align: middle;\n",
              "    }\n",
              "\n",
              "    .dataframe tbody tr th {\n",
              "        vertical-align: top;\n",
              "    }\n",
              "\n",
              "    .dataframe thead th {\n",
              "        text-align: right;\n",
              "    }\n",
              "</style>\n",
              "<table border=\"1\" class=\"dataframe\">\n",
              "  <thead>\n",
              "    <tr style=\"text-align: right;\">\n",
              "      <th></th>\n",
              "      <th>zp</th>\n",
              "      <th>ks</th>\n",
              "    </tr>\n",
              "  </thead>\n",
              "  <tbody>\n",
              "    <tr>\n",
              "      <th>zp</th>\n",
              "      <td>1.00000</td>\n",
              "      <td>0.88749</td>\n",
              "    </tr>\n",
              "    <tr>\n",
              "      <th>ks</th>\n",
              "      <td>0.88749</td>\n",
              "      <td>1.00000</td>\n",
              "    </tr>\n",
              "  </tbody>\n",
              "</table>\n",
              "</div>"
            ],
            "text/plain": [
              "         zp       ks\n",
              "zp  1.00000  0.88749\n",
              "ks  0.88749  1.00000"
            ]
          },
          "metadata": {
            "tags": []
          },
          "execution_count": 34
        }
      ]
    },
    {
      "cell_type": "markdown",
      "metadata": {
        "id": "MCu2eCvxMsAV"
      },
      "source": [
        "####2) Измерены значения IQ выборки студентов, обучающихся в местных технических вузах: 131, 125, 115, 122, 131, 115, 107, 99, 125, 111. Известно, что в генеральной совокупности IQ распределен нормально. Найдите доверительный интервал для математического ожидания с надежностью 0.95."
      ]
    },
    {
      "cell_type": "code",
      "metadata": {
        "id": "0ygw3AY0Lmng"
      },
      "source": [
        "iq = [131, 125, 115, 122, 131, 115, 107, 99, 125, 111]\n",
        "alf = 0.05"
      ],
      "execution_count": 37,
      "outputs": []
    },
    {
      "cell_type": "code",
      "metadata": {
        "id": "gc2oVinKQG1u",
        "outputId": "59841ad5-571d-4f35-dc64-f235510b138e",
        "colab": {
          "base_uri": "https://localhost:8080/",
          "height": 34
        }
      },
      "source": [
        "std(iq)"
      ],
      "execution_count": 38,
      "outputs": [
        {
          "output_type": "execute_result",
          "data": {
            "text/plain": [
              "10.004498987955369"
            ]
          },
          "metadata": {
            "tags": []
          },
          "execution_count": 38
        }
      ]
    },
    {
      "cell_type": "code",
      "metadata": {
        "id": "7booMDjUVwF6",
        "outputId": "0495800e-1a2d-4419-f3ff-2993fe722057",
        "colab": {
          "base_uri": "https://localhost:8080/",
          "height": 34
        }
      },
      "source": [
        "mean(iq)"
      ],
      "execution_count": 39,
      "outputs": [
        {
          "output_type": "execute_result",
          "data": {
            "text/plain": [
              "118.1"
            ]
          },
          "metadata": {
            "tags": []
          },
          "execution_count": 39
        }
      ]
    },
    {
      "cell_type": "code",
      "metadata": {
        "id": "bmp6l3uZQTij",
        "outputId": "050d7468-3c9e-4d22-a20a-3f8fb52b22f1",
        "colab": {
          "base_uri": "https://localhost:8080/",
          "height": 34
        }
      },
      "source": [
        "iq = [131, 125, 115, 122, 131, 115, 107, 99, 125, 111]\n",
        "alf = 0.05\n",
        "sr = sum(iq) / len(iq)\n",
        "sd = 0\n",
        "for i in iq:\n",
        "  sd += (i - sr)**2\n",
        "\n",
        "d = sd / (len(iq)-1)\n",
        "sigma = d**0.5\n",
        "t = 2.262 # по таблице t\n",
        "a = sr - t * sigma / 10**0.5\n",
        "a1 = sr + t * sigma / 10**0.5\n",
        "print(f'Доверительный интервал c надежностью 0.95 составляет от {round(a,2)} до {round(a1,2)}')"
      ],
      "execution_count": 56,
      "outputs": [
        {
          "output_type": "stream",
          "text": [
            "Доверительный интервал c надежностью 0.95 составляет от 110.56 до 125.64\n"
          ],
          "name": "stdout"
        }
      ]
    },
    {
      "cell_type": "markdown",
      "metadata": {
        "id": "cIQyGRBHP9r5"
      },
      "source": [
        "####3) Известно, что рост футболистов в сборной распределен нормально с дисперсией генеральной совокупности, равной 25 кв.см. Объем выборки равен 27 среднее выборочное составляет 174.2. Найдите доверительный интервал для математического ожидания с надежностью 0.95."
      ]
    },
    {
      "cell_type": "code",
      "metadata": {
        "id": "uaAhvPJJQDek",
        "outputId": "b4167987-474c-4273-966e-fb555f162231",
        "colab": {
          "base_uri": "https://localhost:8080/",
          "height": 34
        }
      },
      "source": [
        "d = 25 \n",
        "n = 27 \n",
        "m = 174.2 \n",
        "alf = 0.05 \n",
        "z = 1.96 # по таблице Z \n",
        "sigma = d**0.5\n",
        "a  = m - (z * sigma/n**0.5)\n",
        "a1 = m + (z * sigma/n**0.5)\n",
        "print(f'Доверительный интервал c надежностью 0.95 составляет от {round(a,2)} до {round(a1,2)}')\n"
      ],
      "execution_count": 47,
      "outputs": [
        {
          "output_type": "stream",
          "text": [
            "Доверительный интервал c надежностью 0.95 составляет от 172.31 до 176.09\n"
          ],
          "name": "stdout"
        }
      ]
    }
  ]
}