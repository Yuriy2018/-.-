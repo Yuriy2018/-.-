{
  "nbformat": 4,
  "nbformat_minor": 0,
  "metadata": {
    "colab": {
      "name": "HW_2.ipynb",
      "provenance": []
    },
    "kernelspec": {
      "name": "python3",
      "display_name": "Python 3"
    }
  },
  "cells": [
    {
      "cell_type": "markdown",
      "metadata": {
        "id": "FahlJDLdsJcJ"
      },
      "source": [
        "## Урок 2. Дискретные случайные величины. Закон распределения вероятностей. Биномиальный закон распределения. Распределение Пуассона"
      ]
    },
    {
      "cell_type": "markdown",
      "metadata": {
        "id": "iJA5ZWL1sSeR"
      },
      "source": [
        "#### 1. Вероятность того, что стрелок попадет в мишень, выстрелив один раз, равна 0.8. Стрелок выстрелил 100 раз. Найдите вероятность того, что стрелок попадет в цель ровно 85 раз."
      ]
    },
    {
      "cell_type": "code",
      "metadata": {
        "id": "ZB-xtGGWrf2d"
      },
      "source": [
        "from math import factorial\n",
        "def combinations(n, k):\n",
        "    return int(factorial(n) / (factorial(k) * factorial(n - k)))"
      ],
      "execution_count": 1,
      "outputs": []
    },
    {
      "cell_type": "code",
      "metadata": {
        "id": "jVRrw_nI_UmG",
        "outputId": "9755ac20-d938-45ac-e4f2-8125642eb249",
        "colab": {
          "base_uri": "https://localhost:8080/"
        }
      },
      "source": [
        "combinations(100,85) * 0.8**85 * 0.2**15"
      ],
      "execution_count": null,
      "outputs": [
        {
          "output_type": "execute_result",
          "data": {
            "text/plain": [
              "0.048061793700746556"
            ]
          },
          "metadata": {
            "tags": []
          },
          "execution_count": 2
        }
      ]
    },
    {
      "cell_type": "markdown",
      "metadata": {
        "id": "pRijTPYgsp8j"
      },
      "source": [
        "#### 2. Вероятность того, что лампочка перегорит в течение первого дня эксплуатации, равна 0.0004. В жилом комплексе после ремонта в один день включили 5000 новых лампочек. Какова вероятность, что ни одна из них не перегорит в первый день? Какова вероятность, что перегорят ровно две?"
      ]
    },
    {
      "cell_type": "code",
      "metadata": {
        "id": "pUS21DxJCoFX"
      },
      "source": [
        "def Puasson(alpha,m):\n",
        "  return alpha**m / factorial(m) * 2.72**(-alpha)"
      ],
      "execution_count": 2,
      "outputs": []
    },
    {
      "cell_type": "code",
      "metadata": {
        "id": "hi9YLKiICY5v",
        "outputId": "dc225847-c4d2-46d1-8513-52f3fda2c53e",
        "colab": {
          "base_uri": "https://localhost:8080/"
        }
      },
      "source": [
        "alpha = 5000 * 0.0004\n",
        "m = 0\n",
        "m2 = 2 \n",
        "print('Вероятность перегорания 0 лампочек: ',Puasson(alpha, m))\n",
        "print('Вероятность перегорания 2 лампочек: ',Puasson(alpha, m2))"
      ],
      "execution_count": null,
      "outputs": [
        {
          "output_type": "stream",
          "text": [
            "Вероятность перегорания 0 лампочек:  0.13516435986159167\n",
            "Вероятность перегорания 2 лампочек:  0.27032871972318334\n"
          ],
          "name": "stdout"
        }
      ]
    },
    {
      "cell_type": "markdown",
      "metadata": {
        "id": "1AF-areksxpo"
      },
      "source": [
        "#### 3. Монету подбросили 144 раза. Какова вероятность, что орел выпадет ровно 70 раз?"
      ]
    },
    {
      "cell_type": "code",
      "metadata": {
        "id": "3tqKvaMkszna",
        "outputId": "ffd83cc0-5427-42b6-a7a9-49f0a33df760",
        "colab": {
          "base_uri": "https://localhost:8080/"
        }
      },
      "source": [
        "combinations(144,70) * 0.5**70 * 0.5**74"
      ],
      "execution_count": null,
      "outputs": [
        {
          "output_type": "execute_result",
          "data": {
            "text/plain": [
              "0.06281178035144776"
            ]
          },
          "metadata": {
            "tags": []
          },
          "execution_count": 11
        }
      ]
    },
    {
      "cell_type": "code",
      "metadata": {
        "id": "HHJ-XwRGE52z",
        "outputId": "8e8c9ec2-513d-43c4-b97d-153c94413e22",
        "colab": {
          "base_uri": "https://localhost:8080/"
        }
      },
      "source": [
        "alpha = 144 * 0.5\n",
        "m = 70\n",
        "Puasson(alpha,m)"
      ],
      "execution_count": null,
      "outputs": [
        {
          "output_type": "execute_result",
          "data": {
            "text/plain": [
              "0.04424952611627287"
            ]
          },
          "metadata": {
            "tags": []
          },
          "execution_count": 14
        }
      ]
    },
    {
      "cell_type": "markdown",
      "metadata": {
        "id": "NvCBMpIis7Gr"
      },
      "source": [
        "#### 4. В первом ящике находится 10 мячей, из которых 7 - белые. Во втором ящике - 11 мячей, из которых 9 белых. Из каждого ящика вытаскивают случайным образом по два мяча. Какова вероятность того, что все мячи белые? Какова вероятность того, что ровно два мяча белые? Какова вероятность того, что хотя бы один мяч белый?"
      ]
    },
    {
      "cell_type": "code",
      "metadata": {
        "id": "bnphzQtis_OS",
        "outputId": "424a03ff-49e5-424c-8c48-738979196a74",
        "colab": {
          "base_uri": "https://localhost:8080/",
          "height": 34
        }
      },
      "source": [
        "p = (combinations(7,2) / combinations(10,2)) * (combinations(9,2) / combinations(11,2))\n",
        "print('Bероятность того, что все мячи белые составляет',p)"
      ],
      "execution_count": 14,
      "outputs": [
        {
          "output_type": "stream",
          "text": [
            "Bероятность того, что все мячи белые составляет 0.3054545454545455\n"
          ],
          "name": "stdout"
        }
      ]
    },
    {
      "cell_type": "code",
      "metadata": {
        "id": "S4HKH3MPKkJe",
        "outputId": "1c70fcc0-828c-49f3-eaa6-9330a61fba49",
        "colab": {
          "base_uri": "https://localhost:8080/",
          "height": 34
        }
      },
      "source": [
        "p1 = (combinations(7,2) / combinations(10,2)) * (combinations(2,2) / combinations(11,2)) # Белые в первой корзине\n",
        "p2 = (combinations(3,2) / combinations(10,2)) * (combinations(9,2) / combinations(11,2)) # Белые во второй корзине\n",
        "p3 = (combinations(7,1) * combinations(3,1) / combinations(10,2)) * (combinations(9,1) * combinations(2,1) / combinations(11,2)) # По одному белому из каждой корзины \n",
        "print('Вероятность того, что ровно два мяча белые составляет',p1+p2+p3)"
      ],
      "execution_count": 13,
      "outputs": [
        {
          "output_type": "stream",
          "text": [
            "Вероятность того, что ровно два мяча белые составляет 0.20484848484848486\n"
          ],
          "name": "stdout"
        }
      ]
    },
    {
      "cell_type": "code",
      "metadata": {
        "id": "xcDq6qCqX30u",
        "outputId": "8b291633-0dfc-4f97-971e-f27103c4dc1e",
        "colab": {
          "base_uri": "https://localhost:8080/",
          "height": 34
        }
      },
      "source": [
        "print('Вероятность того, что ровно два мяча белые составляет',p1+p2+p3)"
      ],
      "execution_count": 12,
      "outputs": [
        {
          "output_type": "stream",
          "text": [
            "Вероятность того, что ровно два мяча белые составляет 0.20484848484848486\n"
          ],
          "name": "stdout"
        }
      ]
    },
    {
      "cell_type": "code",
      "metadata": {
        "id": "_mcSCuu6YYmX",
        "outputId": "f151819b-f9ca-49ce-fefc-d0d78211ac9d",
        "colab": {
          "base_uri": "https://localhost:8080/",
          "height": 34
        }
      },
      "source": [
        "p =  1 - (combinations(3,2) / combinations(10,2)) * (combinations(2,2) / combinations(11,2))\n",
        "print('Bероятность того, что хотя бы один мяч белый составляет',p)"
      ],
      "execution_count": 11,
      "outputs": [
        {
          "output_type": "stream",
          "text": [
            "Bероятность того, что хотя бы один мяч белый составляет 0.9987878787878788\n"
          ],
          "name": "stdout"
        }
      ]
    },
    {
      "cell_type": "code",
      "metadata": {
        "id": "rc-X19NiYx6o"
      },
      "source": [
        ""
      ],
      "execution_count": null,
      "outputs": []
    }
  ]
}
