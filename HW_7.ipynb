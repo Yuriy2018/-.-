{
  "nbformat": 4,
  "nbformat_minor": 0,
  "metadata": {
    "colab": {
      "name": "HW_7.ipynb",
      "provenance": []
    },
    "kernelspec": {
      "name": "python3",
      "display_name": "Python 3"
    }
  },
  "cells": [
    {
      "cell_type": "markdown",
      "metadata": {
        "id": "sgiJM1iqmaaY"
      },
      "source": [
        "###Урок 7. Многомерный статистический анализ. Линейная регрессия"
      ]
    },
    {
      "cell_type": "markdown",
      "metadata": {
        "id": "40TXFMW8mf57"
      },
      "source": [
        "####1. Даны значения величины заработной платы заемщиков банка (zp) и значения их поведенческого кредитного скоринга (ks): zp = [35, 45, 190, 200, 40, 70, 54, 150, 120, 110], ks = [401, 574, 874, 919, 459, 739, 653, 902, 746, 832]. Используя математические операции, посчитать коэффициенты линейной регрессии, приняв за X заработную плату (то есть, zp - признак), а за y - значения скорингового балла (то есть, ks - целевая переменная). Произвести расчет как с использованием intercept, так и без."
      ]
    },
    {
      "cell_type": "code",
      "metadata": {
        "id": "N8vSzdMEqvhw"
      },
      "source": [
        "import matplotlib.pyplot as plt\n",
        "%matplotlib inline\n",
        "import numpy as np"
      ],
      "execution_count": 1,
      "outputs": []
    },
    {
      "cell_type": "code",
      "metadata": {
        "id": "ytkym0JB0Mo8"
      },
      "source": [
        "def get_mean(val):\n",
        "  return val.sum() / len(val)\n",
        "\n",
        "def get_mean_squared(val):\n",
        "  meanSq = 0\n",
        "  for i in X:\n",
        "    meanSq += i**2\n",
        "\n",
        "  return meanSq / len(X)  \n",
        "\n",
        "def get_mean_twist(val1,val2):\n",
        "    a = []\n",
        "    for x,i in enumerate(val1):\n",
        "      a.append(i*val2[x])\n",
        "    return sum(a) / len(a)  "
      ],
      "execution_count": 12,
      "outputs": []
    },
    {
      "cell_type": "code",
      "metadata": {
        "id": "1IKHodCK-WrA"
      },
      "source": [
        " zp = [35, 45, 190, 200, 40, 70, 54, 150, 120, 110]\n",
        " ks = [401, 574, 874, 919, 459, 739, 653, 902, 746, 832]\n",
        "\n",
        " X = np.array([35, 45, 190, 200, 40, 70, 54, 150, 120, 110])\n",
        " y = np.array([401, 574, 874, 919, 459, 739, 653, 902, 746, 832])"
      ],
      "execution_count": 144,
      "outputs": []
    },
    {
      "cell_type": "code",
      "metadata": {
        "id": "4RRumN8U-bAr",
        "outputId": "8bb46697-d24b-4e84-dc0e-347f65e3fbe7",
        "colab": {
          "base_uri": "https://localhost:8080/",
          "height": 51
        }
      },
      "source": [
        "np.corrcoef(zp,ks)"
      ],
      "execution_count": null,
      "outputs": [
        {
          "output_type": "execute_result",
          "data": {
            "text/plain": [
              "array([[1.        , 0.88749009],\n",
              "       [0.88749009, 1.        ]])"
            ]
          },
          "metadata": {
            "tags": []
          },
          "execution_count": 26
        }
      ]
    },
    {
      "cell_type": "code",
      "metadata": {
        "id": "vn4qsn0LMVjM",
        "outputId": "9f625847-88a4-49aa-c83a-dd1fb02805bc",
        "colab": {
          "base_uri": "https://localhost:8080/",
          "height": 34
        }
      },
      "source": [
        "b = (get_mean_twist(X,y) - get_mean(X) * get_mean(y)) / (get_mean_squared(X) - get_mean(X)**2)"
      ],
      "execution_count": 147,
      "outputs": [
        {
          "output_type": "execute_result",
          "data": {
            "text/plain": [
              "2.620538882402765"
            ]
          },
          "metadata": {
            "tags": []
          },
          "execution_count": 147
        }
      ]
    },
    {
      "cell_type": "code",
      "metadata": {
        "id": "xn0qSQcnr1TG",
        "outputId": "0dea6a51-bd33-441b-9bbb-13993e5aeeb0",
        "colab": {
          "base_uri": "https://localhost:8080/",
          "height": 34
        }
      },
      "source": [
        "# Второй способ нахождения b\n",
        "np.cov(X,y,ddof=1)[0,1] / np.var(X, ddof=1)"
      ],
      "execution_count": 130,
      "outputs": [
        {
          "output_type": "execute_result",
          "data": {
            "text/plain": [
              "2.620538882402765"
            ]
          },
          "metadata": {
            "tags": []
          },
          "execution_count": 130
        }
      ]
    },
    {
      "cell_type": "code",
      "metadata": {
        "id": "RCx85WB5NIXz",
        "outputId": "97e3b892-ebab-42d7-8dcd-5ac34becd799",
        "colab": {
          "base_uri": "https://localhost:8080/",
          "height": 34
        }
      },
      "source": [
        "a = get_mean(y) - b * get_mean(X)"
      ],
      "execution_count": 148,
      "outputs": [
        {
          "output_type": "execute_result",
          "data": {
            "text/plain": [
              "444.1773573243596"
            ]
          },
          "metadata": {
            "tags": []
          },
          "execution_count": 148
        }
      ]
    },
    {
      "cell_type": "markdown",
      "metadata": {
        "id": "cP18U63y3Kud"
      },
      "source": [
        "#### from intercept"
      ]
    },
    {
      "cell_type": "code",
      "metadata": {
        "id": "eCLH1RJ66Pf_",
        "outputId": "b71b87e7-0b0c-4098-a2ce-87c9e9ffe14a",
        "colab": {
          "base_uri": "https://localhost:8080/",
          "height": 68
        }
      },
      "source": [
        "y_hat = a + b * X\n",
        "y_hat"
      ],
      "execution_count": 38,
      "outputs": [
        {
          "output_type": "execute_result",
          "data": {
            "text/plain": [
              "array([535.89621821, 562.10160703, 942.07974498, 968.2851338 ,\n",
              "       548.99891262, 627.61507909, 585.68645697, 837.25818968,\n",
              "       758.64202321, 732.43663439])"
            ]
          },
          "metadata": {
            "tags": []
          },
          "execution_count": 38
        }
      ]
    },
    {
      "cell_type": "code",
      "metadata": {
        "id": "VqIbbOv64Ffh",
        "outputId": "0437c106-50ae-407c-8dfd-201cad340fcd",
        "colab": {
          "base_uri": "https://localhost:8080/",
          "height": 34
        }
      },
      "source": [
        "get_mean(y)"
      ],
      "execution_count": 134,
      "outputs": [
        {
          "output_type": "execute_result",
          "data": {
            "text/plain": [
              "709.9"
            ]
          },
          "metadata": {
            "tags": []
          },
          "execution_count": 134
        }
      ]
    },
    {
      "cell_type": "code",
      "metadata": {
        "id": "49nWZa2P6kFP",
        "outputId": "641825ed-ddec-468a-d00a-2c4cf4b9c2a0",
        "colab": {
          "base_uri": "https://localhost:8080/",
          "height": 265
        }
      },
      "source": [
        "plt.scatter(X,y)\n",
        "plt.plot(X,a+b*X)\n",
        "plt.show()"
      ],
      "execution_count": 37,
      "outputs": [
        {
          "output_type": "display_data",
          "data": {
            "image/png": "[encoded data removed]",
            "text/plain": [
              "<Figure size 432x288 with 1 Axes>"
            ]
          },
          "metadata": {
            "tags": [],
            "needs_background": "light"
          }
        }
      ]
    },
    {
      "cell_type": "code",
      "metadata": {
        "id": "wZDR_Fj84vbw",
        "outputId": "89c77974-be5e-4a25-ba99-c28c25c9f658",
        "colab": {
          "base_uri": "https://localhost:8080/",
          "height": 34
        }
      },
      "source": [
        "mse = sum((y - y_hat)**2) / len(y)\n",
        "mse"
      ],
      "execution_count": 39,
      "outputs": [
        {
          "output_type": "execute_result",
          "data": {
            "text/plain": [
              "6470.41420117666"
            ]
          },
          "metadata": {
            "tags": []
          },
          "execution_count": 39
        }
      ]
    },
    {
      "cell_type": "markdown",
      "metadata": {
        "id": "8SnTOAo43YEq"
      },
      "source": [
        "####without intercept"
      ]
    },
    {
      "cell_type": "code",
      "metadata": {
        "id": "jWSkiD-L7bFE",
        "outputId": "afcfbb70-d39e-45ca-85b9-179cfafaec90",
        "colab": {
          "base_uri": "https://localhost:8080/",
          "height": 68
        }
      },
      "source": [
        "y_hat = b * X\n",
        "y_hat"
      ],
      "execution_count": 40,
      "outputs": [
        {
          "output_type": "execute_result",
          "data": {
            "text/plain": [
              "array([ 91.71886088, 117.92424971, 497.90238766, 524.10777648,\n",
              "       104.8215553 , 183.43772177, 141.50909965, 393.08083236,\n",
              "       314.46466589, 288.25927706])"
            ]
          },
          "metadata": {
            "tags": []
          },
          "execution_count": 40
        }
      ]
    },
    {
      "cell_type": "code",
      "metadata": {
        "id": "LB8_DkR64Jug",
        "outputId": "9a7c0588-01ca-44e6-fe1e-ee2c9ebed9a1",
        "colab": {
          "base_uri": "https://localhost:8080/",
          "height": 265
        }
      },
      "source": [
        "plt.scatter(X,y)\n",
        "plt.plot(X,b*X)\n",
        "plt.show()"
      ],
      "execution_count": 27,
      "outputs": [
        {
          "output_type": "display_data",
          "data": {
            "image/png": "[encoded data removed]",
            "text/plain": [
              "<Figure size 432x288 with 1 Axes>"
            ]
          },
          "metadata": {
            "tags": [],
            "needs_background": "light"
          }
        }
      ]
    },
    {
      "cell_type": "code",
      "metadata": {
        "id": "MiQWgIgK5L5e",
        "outputId": "9e6d17f8-05b9-4955-9d43-419d9833870e",
        "colab": {
          "base_uri": "https://localhost:8080/",
          "height": 34
        }
      },
      "source": [
        "mse = sum((y - y_hat)**2) / len(y)\n",
        "mse"
      ],
      "execution_count": 41,
      "outputs": [
        {
          "output_type": "execute_result",
          "data": {
            "text/plain": [
              "203763.93896082853"
            ]
          },
          "metadata": {
            "tags": []
          },
          "execution_count": 41
        }
      ]
    },
    {
      "cell_type": "markdown",
      "metadata": {
        "id": "5DSgu9x7mqIp"
      },
      "source": [
        "####2. Посчитать коэффициент линейной регрессии при заработной плате (zp), используя градиентный спуск (без intercept)."
      ]
    },
    {
      "cell_type": "code",
      "metadata": {
        "id": "4X23f_LHmpbE"
      },
      "source": [
        "def mse_(B1,y=y,X=X,n=10):\n",
        "  return np.sum(B1*X-y)/n"
      ],
      "execution_count": 42,
      "outputs": []
    },
    {
      "cell_type": "code",
      "metadata": {
        "id": "4cyBCO6cALjK",
        "outputId": "89b8e146-cbc3-4148-cf04-9feadbb649e1",
        "colab": {
          "base_uri": "https://localhost:8080/",
          "height": 374
        }
      },
      "source": [
        "alpha = 0.0000001\n",
        "B1 = 0.3\n",
        "n = 10\n",
        "for i in range(10000):\n",
        "  B1 -= alpha*(2/n)*np.sum((B1*X-y)*X)\n",
        "  mse = mse_(B1)\n",
        "  # if mse < 0:\n",
        "    # break\n",
        "  if i%500==0:\n",
        "    print(f'Iteration: {i}, B1={B1}, mse={mse}') \n",
        "print('Итоговый коэффицент В',B1)    "
      ],
      "execution_count": 142,
      "outputs": [
        {
          "output_type": "stream",
          "text": [
            "Iteration: 0, B1=0.315401744, mse=-677.9182631584\n",
            "Iteration: 500, B1=4.486801063014902, mse=-254.93837221028897\n",
            "Iteration: 1000, B1=5.536696008276913, mse=-148.47902476072096\n",
            "Iteration: 1500, B1=5.80094292203127, mse=-121.68438770602923\n",
            "Iteration: 2000, B1=5.867450939565606, mse=-114.94047472804755\n",
            "Iteration: 2500, B1=5.884190269964989, mse=-113.24310662555006\n",
            "Iteration: 3000, B1=5.888403373777239, mse=-112.81589789898798\n",
            "Iteration: 3500, B1=5.889463765280916, mse=-112.70837420051512\n",
            "Iteration: 4000, B1=5.889730654062013, mse=-112.68131167811194\n",
            "Iteration: 4500, B1=5.889797827008256, mse=-112.67450034136282\n",
            "Iteration: 5000, B1=5.88981473369384, mse=-112.67278600344461\n",
            "Iteration: 5500, B1=5.889818988919098, mse=-112.6723545236035\n",
            "Iteration: 6000, B1=5.889820059912101, mse=-112.67224592491293\n",
            "Iteration: 6500, B1=5.8898203294691625, mse=-112.67221859182692\n",
            "Iteration: 7000, B1=5.889820397313687, mse=-112.67221171239211\n",
            "Iteration: 7500, B1=5.889820414389398, mse=-112.67220998091507\n",
            "Iteration: 8000, B1=5.889820418687169, mse=-112.67220954512104\n",
            "Iteration: 8500, B1=5.889820419768866, mse=-112.67220943543694\n",
            "Iteration: 9000, B1=5.889820420041115, mse=-112.67220940783093\n",
            "Iteration: 9500, B1=5.88982042010964, mse=-112.67220940088255\n",
            "Итоговый коэффицент В 5.88982042012687\n"
          ],
          "name": "stdout"
        }
      ]
    },
    {
      "cell_type": "code",
      "metadata": {
        "id": "ACZJ-vV_ojbz",
        "outputId": "419a9f39-5405-48c8-cf03-e4a29e9a0f8c",
        "colab": {
          "base_uri": "https://localhost:8080/",
          "height": 68
        }
      },
      "source": [
        "# B1 = 11.4\n",
        "y_hat = B1 * X\n",
        "y_hat"
      ],
      "execution_count": 121,
      "outputs": [
        {
          "output_type": "execute_result",
          "data": {
            "text/plain": [
              "array([ 206.1437147 ,  265.04191891, 1119.06587982, 1177.96408402,\n",
              "        235.5928168 ,  412.28742941,  318.05030269,  883.47306302,\n",
              "        706.77845041,  647.88024621])"
            ]
          },
          "metadata": {
            "tags": []
          },
          "execution_count": 121
        }
      ]
    },
    {
      "cell_type": "code",
      "metadata": {
        "id": "_VzJ1yK2o1TH",
        "outputId": "8b0e1a07-8872-47a7-dfb3-303932fa85b9",
        "colab": {
          "base_uri": "https://localhost:8080/",
          "height": 265
        }
      },
      "source": [
        "plt.scatter(X,y)\n",
        "plt.plot(X,y_hat)\n",
        "plt.show()"
      ],
      "execution_count": 122,
      "outputs": [
        {
          "output_type": "display_data",
          "data": {
            "image/png": "[encoded data removed]",
            "text/plain": [
              "<Figure size 432x288 with 1 Axes>"
            ]
          },
          "metadata": {
            "tags": [],
            "needs_background": "light"
          }
        }
      ]
    },
    {
      "cell_type": "markdown",
      "metadata": {
        "id": "prza3KZvmx8n"
      },
      "source": [
        "####3. В каких случаях для вычисления доверительных интервалов и проверки статистических гипотез используется таблица значений функции Лапласа, а в каких - таблица критических точек распределения Стьюдента?"
      ]
    },
    {
      "cell_type": "code",
      "metadata": {
        "id": "pEFpfAfrm15w"
      },
      "source": [
        "#С помощью критерия Стьюдента можно оценить значимость отдельных коэффицентов.."
      ],
      "execution_count": null,
      "outputs": []
    },
    {
      "cell_type": "markdown",
      "metadata": {
        "id": "Kq-NNHRam4f7"
      },
      "source": [
        "####*4. Произвести вычисления как в пункте 2, но с вычислением intercept. Учесть, что изменение коэффициентов должно производиться на каждом шаге одновременно (то есть изменение одного коэффициента не должно влиять на изменение другого во время одной итерации). "
      ]
    },
    {
      "cell_type": "code",
      "metadata": {
        "id": "swjeIt_5m93v"
      },
      "source": [
        "# Постораюсь позже решить.."
      ],
      "execution_count": null,
      "outputs": []
    },
    {
      "cell_type": "code",
      "metadata": {
        "id": "acWMXt-SaQzi"
      },
      "source": [
        ""
      ],
      "execution_count": null,
      "outputs": []
    },
    {
      "cell_type": "code",
      "metadata": {
        "id": "81_BlauiaQ4B"
      },
      "source": [
        ""
      ],
      "execution_count": null,
      "outputs": []
    },
    {
      "cell_type": "code",
      "metadata": {
        "id": "iCPAQsYt1lLp"
      },
      "source": [
        ""
      ],
      "execution_count": null,
      "outputs": []
    }
  ]
}