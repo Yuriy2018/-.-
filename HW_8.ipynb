{
  "nbformat": 4,
  "nbformat_minor": 0,
  "metadata": {
    "colab": {
      "name": "HW_8.ipynb",
      "provenance": []
    },
    "kernelspec": {
      "name": "python3",
      "display_name": "Python 3"
    }
  },
  "cells": [
    {
      "cell_type": "markdown",
      "metadata": {
        "id": "TIo6ri2YWszg"
      },
      "source": [
        "### Урок 8. Дисперсионный анализ. Логистическая регрессия"
      ]
    },
    {
      "cell_type": "markdown",
      "metadata": {
        "id": "1JVWvC99Wznw"
      },
      "source": [
        "####1.Провести дисперсионный анализ для определения того, есть ли различия среднего роста среди взрослых футболистов, хоккеистов и штангистов. Даны значения роста в трех группах случайно выбранных спортсменов: Футболисты: 173, 175, 180, 178, 177, 185, 183, 182. Хоккеисты: 177, 179, 180, 188, 177, 172, 171, 184, 180. Штангисты: 172, 173, 169, 177, 166, 180, 178, 177, 172, 166, 170."
      ]
    },
    {
      "cell_type": "code",
      "metadata": {
        "id": "bDwSB4MEbvGX"
      },
      "source": [
        "from scipy import stats"
      ],
      "execution_count": 20,
      "outputs": []
    },
    {
      "cell_type": "code",
      "metadata": {
        "id": "MZzytWf1bvIR"
      },
      "source": [
        "def mean(val):\n",
        "  return sum(val)/ len(val)"
      ],
      "execution_count": 7,
      "outputs": []
    },
    {
      "cell_type": "code",
      "metadata": {
        "id": "7U82eECKWmhU"
      },
      "source": [
        "foot = [173, 175, 180, 178, 177, 185, 183, 182]\n",
        "hock = [177, 179, 180, 188, 177, 172, 171, 184, 180]\n",
        "scht = [172, 173, 169, 177, 166, 180, 178, 177, 172, 166, 170]"
      ],
      "execution_count": 55,
      "outputs": []
    },
    {
      "cell_type": "code",
      "metadata": {
        "id": "hq_-y3hnX5Y4"
      },
      "source": [
        "k=3 \n",
        "n1 = len(foot)\n",
        "n2 = len(hock)\n",
        "n3 = len(scht)\n",
        "n = n1+n2+n3"
      ],
      "execution_count": 56,
      "outputs": []
    },
    {
      "cell_type": "code",
      "metadata": {
        "id": "Fk2R5VGrbq7f",
        "outputId": "03a07895-f4ae-48eb-9109-f5b52601459f",
        "colab": {
          "base_uri": "https://localhost:8080/",
          "height": 34
        }
      },
      "source": [
        "y1 = mean(foot)\n",
        "y2 = mean(hock)\n",
        "y3 = mean(scht)\n",
        "\n",
        "Y = mean(foot+hock+scht)\n",
        "Y"
      ],
      "execution_count": 57,
      "outputs": [
        {
          "output_type": "execute_result",
          "data": {
            "text/plain": [
              "176.46428571428572"
            ]
          },
          "metadata": {
            "tags": []
          },
          "execution_count": 57
        }
      ]
    },
    {
      "cell_type": "code",
      "metadata": {
        "id": "4yCf89Dz5FFS",
        "outputId": "a4d26cfb-ed21-4fda-c404-4f75d102f335",
        "colab": {
          "base_uri": "https://localhost:8080/",
          "height": 34
        }
      },
      "source": [
        "Sf = (y1 - Y)**2 * n1 + (y2 - Y)**2 * n2 + (y3 - Y)**2 * n3\n",
        "Sf"
      ],
      "execution_count": 58,
      "outputs": [
        {
          "output_type": "execute_result",
          "data": {
            "text/plain": [
              "253.9074675324678"
            ]
          },
          "metadata": {
            "tags": []
          },
          "execution_count": 58
        }
      ]
    },
    {
      "cell_type": "code",
      "metadata": {
        "id": "d9S3Vis15dm-",
        "outputId": "4658bd56-c437-41ed-a73e-f6f1e89985ae",
        "colab": {
          "base_uri": "https://localhost:8080/",
          "height": 34
        }
      },
      "source": [
        "sigma_f = Sf / (k-1) # вычисляем факторную дисперсию\n",
        "sigma_f"
      ],
      "execution_count": 59,
      "outputs": [
        {
          "output_type": "execute_result",
          "data": {
            "text/plain": [
              "126.9537337662339"
            ]
          },
          "metadata": {
            "tags": []
          },
          "execution_count": 59
        }
      ]
    },
    {
      "cell_type": "code",
      "metadata": {
        "id": "HWpc46ArcuT2",
        "outputId": "8fb0958a-2011-4eed-efda-4089bff6262b",
        "colab": {
          "base_uri": "https://localhost:8080/",
          "height": 34
        }
      },
      "source": [
        "Soct = 0\n",
        "for i in (foot):\n",
        "  Soct += (i-y1)**2\n",
        "\n",
        "for i in (hock):\n",
        "  Soct += (i-y2)**2\n",
        "\n",
        "for i in (scht):\n",
        "  Soct += (i-y3)**2\n",
        "\n",
        "Soct  "
      ],
      "execution_count": 60,
      "outputs": [
        {
          "output_type": "execute_result",
          "data": {
            "text/plain": [
              "577.0568181818181"
            ]
          },
          "metadata": {
            "tags": []
          },
          "execution_count": 60
        }
      ]
    },
    {
      "cell_type": "code",
      "metadata": {
        "id": "j8g4PEq06Co1",
        "outputId": "f9f024ee-0f1a-4db7-c656-174a85fb748e",
        "colab": {
          "base_uri": "https://localhost:8080/",
          "height": 34
        }
      },
      "source": [
        "sigma_oct = Soct / (n-k)  # вычисляем остаточную дисперсию\n",
        "sigma_oct"
      ],
      "execution_count": 61,
      "outputs": [
        {
          "output_type": "execute_result",
          "data": {
            "text/plain": [
              "23.082272727272724"
            ]
          },
          "metadata": {
            "tags": []
          },
          "execution_count": 61
        }
      ]
    },
    {
      "cell_type": "code",
      "metadata": {
        "id": "YBP-RE4g6mas",
        "outputId": "541c34e2-d414-4b13-cc60-e9c2f83e0c5d",
        "colab": {
          "base_uri": "https://localhost:8080/",
          "height": 34
        }
      },
      "source": [
        "Fh = sigma_f / sigma_oct # Наблюдаемое значение критерия Фишера\n",
        "Fh"
      ],
      "execution_count": 62,
      "outputs": [
        {
          "output_type": "execute_result",
          "data": {
            "text/plain": [
              "5.500053450812599"
            ]
          },
          "metadata": {
            "tags": []
          },
          "execution_count": 62
        }
      ]
    },
    {
      "cell_type": "code",
      "metadata": {
        "id": "3MiSvzPt-aMT"
      },
      "source": [
        "p_horF = k - 1\n",
        "p_verF = n - k\n",
        "krF = 3.39"
      ],
      "execution_count": 63,
      "outputs": []
    },
    {
      "cell_type": "markdown",
      "metadata": {
        "id": "jlxE-vJG_Ryy"
      },
      "source": [
        "##### Так как 5.5 > 3.39 Делаем вывод: отклоняем гипотизу H0. (С уверенностью 95%)"
      ]
    },
    {
      "cell_type": "markdown",
      "metadata": {
        "id": "7AqiXB-O91Vc"
      },
      "source": [
        "#### С помощью библиотеки Scipy"
      ]
    },
    {
      "cell_type": "code",
      "metadata": {
        "id": "eryX0pRUctck",
        "outputId": "f60e72aa-99aa-4330-9337-0feab4b5e995",
        "colab": {
          "base_uri": "https://localhost:8080/",
          "height": 34
        }
      },
      "source": [
        "foot = ([173, 175, 180, 178, 177, 185, 183, 182])\n",
        "hock = ([177, 179, 180, 188, 177, 172, 171, 184, 180])\n",
        "scht = ([172, 173, 169, 177, 166, 180, 178, 177, 172, 166, 170])\n",
        "stats.f_oneway(foot,hock,scht)"
      ],
      "execution_count": 37,
      "outputs": [
        {
          "output_type": "execute_result",
          "data": {
            "text/plain": [
              "F_onewayResult(statistic=5.500053450812596, pvalue=0.010482206918698694)"
            ]
          },
          "metadata": {
            "tags": []
          },
          "execution_count": 37
        }
      ]
    }
  ]
}