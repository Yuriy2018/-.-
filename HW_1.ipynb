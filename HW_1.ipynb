{
  "nbformat": 4,
  "nbformat_minor": 0,
  "metadata": {
    "colab": {
      "name": "HW_1.ipynb",
      "provenance": []
    },
    "kernelspec": {
      "name": "python3",
      "display_name": "Python 3"
    }
  },
  "cells": [
    {
      "cell_type": "markdown",
      "metadata": {
        "id": "GZ6V8h1fepvL"
      },
      "source": [
        "#Урок 1. Случайные события. Условная вероятность. Формула Байеса. Независимые испытания\n"
      ]
    },
    {
      "cell_type": "markdown",
      "metadata": {
        "id": "rNs_GF4je0lx"
      },
      "source": [
        "#### 1. Из колоды в 52 карты извлекаются случайным образом 4 карты. a) Найти вероятность того, что все карты – крести. б) Найти вероятность, что среди 4-х карт окажется ХОТЯ БЫ один туз.\n"
      ]
    },
    {
      "cell_type": "markdown",
      "metadata": {
        "id": "oH5c0Rh9fBbl"
      },
      "source": [
        "a)  а = все крести.\n",
        " Р(а) =  13/52 * 12/51 * 11/50 * 10/49 = 0,0026367 "
      ]
    },
    {
      "cell_type": "markdown",
      "metadata": {
        "id": "BQtxiCOvf7Wt"
      },
      "source": [
        "б) в = хотя бы один туз.\n",
        "Р(в) = 1 - 48/52 * 47/51 * 46/50 * 45/49 = 0,28"
      ]
    },
    {
      "cell_type": "code",
      "metadata": {
        "id": "sK1SVubshuFM"
      },
      "source": [
        ""
      ],
      "execution_count": null,
      "outputs": []
    },
    {
      "cell_type": "markdown",
      "metadata": {
        "id": "k72dNS3ygnlp"
      },
      "source": [
        "#### 2. На входной двери подъезда установлен кодовый замок, содержащий десять кнопок с цифрами от 0 до 9. Код содержит три цифры, которые нужно нажать одновременно. Какова вероятность того, что человек, не знающий код, откроет дверь с первой попытки?"
      ]
    },
    {
      "cell_type": "code",
      "metadata": {
        "id": "jQ0i-uB7egMi",
        "outputId": "7a212587-907b-44df-e377-be98c24e6c08",
        "colab": {
          "base_uri": "https://localhost:8080/",
          "height": 34
        }
      },
      "source": [
        "from math import factorial\n",
        "def combinations(n, k):\n",
        "    return int(factorial(n) / (factorial(k) * factorial(n - k)))\n",
        "\n",
        "print('Вероятность открыть с первой попытки составляет',1/combinations(10,3))    "
      ],
      "execution_count": 1,
      "outputs": [
        {
          "output_type": "stream",
          "text": [
            "Вероятность открыть с первой попытки составляет 0.008333333333333333\n"
          ],
          "name": "stdout"
        }
      ]
    },
    {
      "cell_type": "code",
      "metadata": {
        "id": "qzZf0hVChxr3"
      },
      "source": [
        ""
      ],
      "execution_count": null,
      "outputs": []
    },
    {
      "cell_type": "markdown",
      "metadata": {
        "id": "PZhX5Q1_hyS_"
      },
      "source": [
        "#### 3. В ящике имеется 15 деталей, из которых 9 окрашены. Рабочий случайным образом извлекает 3 детали. Какова вероятность того, что все извлеченные детали окрашены?"
      ]
    },
    {
      "cell_type": "markdown",
      "metadata": {
        "id": "7ONZCo3_iPDJ"
      },
      "source": [
        "P(что все 3 окрашенных) = 9/15 * 8/14 * 7/13 = 0.1844"
      ]
    },
    {
      "cell_type": "code",
      "metadata": {
        "id": "mC3hXtN3iAZN"
      },
      "source": [
        ""
      ],
      "execution_count": null,
      "outputs": []
    },
    {
      "cell_type": "markdown",
      "metadata": {
        "id": "RF69k0e8iAoy"
      },
      "source": [
        "#### 4. В лотерее 100 билетов. Из них 2 выигрышных. Какова вероятность того, что 2 приобретенных билета окажутся выигрышными?"
      ]
    },
    {
      "cell_type": "code",
      "metadata": {
        "id": "caXHW8M5iDoQ"
      },
      "source": [
        "P(2 выигрышных) = 2/100 * 1/99  = 0,0001"
      ],
      "execution_count": null,
      "outputs": []
    }
  ]
}